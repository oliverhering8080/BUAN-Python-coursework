{
 "cells": [
  {
   "cell_type": "markdown",
   "id": "reserved-reverse",
   "metadata": {},
   "source": [
    "Python - Marvel Mart Project   \n",
    "Oliver Hering   \n",
    "14 March 2021\n"
   ]
  },
  {
   "cell_type": "code",
   "execution_count": 6,
   "id": "antique-speaker",
   "metadata": {},
   "outputs": [],
   "source": [
    "import csv\n",
    "import numpy as np\n",
    "import pandas as pd\n",
    "import seaborn as sns\n",
    "import matplotlib.pyplot as plt\n",
    "from itertools import zip_longest\n",
    "pd.set_option('display.float_format', lambda x: '%.3f' % x)  \n",
    "%config InlineBackend.print_figure_kwargs={'facecolor' : 'w'}"
   ]
  },
  {
   "cell_type": "markdown",
   "id": "caring-collapse",
   "metadata": {},
   "source": [
    "## Part 1: Cleaning the Data"
   ]
  },
  {
   "cell_type": "markdown",
   "id": "greater-arrangement",
   "metadata": {},
   "source": [
    "1.test for missing values and change all to null or 0.   \n",
    "2.find incorrect data and change to null or 0.   \n",
    "3.remove all values that have null or 0."
   ]
  },
  {
   "cell_type": "code",
   "execution_count": 7,
   "id": "tired-median",
   "metadata": {},
   "outputs": [
    {
     "name": "stdout",
     "output_type": "stream",
     "text": [
      "Region             0\n",
      "Country            0\n",
      "Item Type          6\n",
      "Sales Channel      0\n",
      "Order Priority    15\n",
      "Order Date         0\n",
      "Order ID           0\n",
      "Ship Date          0\n",
      "Units Sold         0\n",
      "Unit Price         0\n",
      "Unit Cost          0\n",
      "Total Revenue      0\n",
      "Total Cost         0\n",
      "Total Profit       0\n",
      "dtype: int64\n",
      "<class 'pandas.core.frame.DataFrame'>\n",
      "RangeIndex: 50000 entries, 0 to 49999\n",
      "Data columns (total 14 columns):\n",
      " #   Column          Non-Null Count  Dtype  \n",
      "---  ------          --------------  -----  \n",
      " 0   Region          50000 non-null  object \n",
      " 1   Country         50000 non-null  object \n",
      " 2   Item Type       49994 non-null  object \n",
      " 3   Sales Channel   50000 non-null  object \n",
      " 4   Order Priority  49985 non-null  object \n",
      " 5   Order Date      50000 non-null  object \n",
      " 6   Order ID        50000 non-null  object \n",
      " 7   Ship Date       50000 non-null  object \n",
      " 8   Units Sold      50000 non-null  int64  \n",
      " 9   Unit Price      50000 non-null  float64\n",
      " 10  Unit Cost       50000 non-null  float64\n",
      " 11  Total Revenue   50000 non-null  float64\n",
      " 12  Total Cost      50000 non-null  float64\n",
      " 13  Total Profit    50000 non-null  float64\n",
      "dtypes: float64(5), int64(1), object(8)\n",
      "memory usage: 5.3+ MB\n",
      "None\n"
     ]
    }
   ],
   "source": [
    "df = pd.read_csv(\"DataSamples/MM_Sales.csv\")\n",
    "\n",
    "# This checks for missing values in each column and shows the count of how many are blank.\n",
    "sumNA = df.isna().sum()\n",
    "print(sumNA)\n",
    "print(df.info())"
   ]
  },
  {
   "cell_type": "code",
   "execution_count": 16,
   "id": "proper-medicine",
   "metadata": {},
   "outputs": [],
   "source": [
    "# This establishes a new df that will hold our clean data.\n",
    "# Also removes spaces in our column names.\n",
    "\n",
    "dfClean = df.copy()\n",
    "df.columns = df.columns.str.replace(' ', '')\n",
    "dfClean.columns = dfClean.columns.str.replace(' ', '')"
   ]
  },
  {
   "cell_type": "code",
   "execution_count": 11,
   "id": "latest-responsibility",
   "metadata": {},
   "outputs": [],
   "source": [
    "# Now we need to find the incorrect data and replace it with NULL or 0. \n",
    "# Country data will either be missing or be a number as a string.\n",
    "# Item Type will either be missing or won't be a valid type like the others listed.\n",
    "# Order Priority will either be missing or won't be a code 'C' 'H' 'M' 'L' or 'NULL'.\n",
    "# Order ID will either be missing or won't be a number."
   ]
  },
  {
   "cell_type": "code",
   "execution_count": 9,
   "id": "sacred-tactics",
   "metadata": {},
   "outputs": [
    {
     "name": "stdout",
     "output_type": "stream",
     "text": [
      "Region           0\n",
      "Country          0\n",
      "ItemType         0\n",
      "SalesChannel     0\n",
      "OrderPriority    0\n",
      "OrderDate        0\n",
      "OrderID          0\n",
      "ShipDate         0\n",
      "UnitsSold        0\n",
      "UnitPrice        0\n",
      "UnitCost         0\n",
      "TotalRevenue     0\n",
      "TotalCost        0\n",
      "TotalProfit      0\n",
      "dtype: int64\n"
     ]
    }
   ],
   "source": [
    "# This script replaces all empty values with either \"NULL\" or 0.\n",
    "\n",
    "dfClean = df[\"Country\"].fillna(\"NULL\", inplace = True)\n",
    "dfClean = df[\"ItemType\"].fillna(\"NULL\", inplace = True)\n",
    "dfClean = df[\"OrderPriority\"].fillna(\"NULL\", inplace = True)\n",
    "dfClean = df[\"OrderID\"].fillna(0) \n",
    "\n",
    "# Now we can see that we have no missing values in our clean df.\n",
    "sumNA_Clean = df.isna().sum()\n",
    "print(sumNA_Clean)"
   ]
  },
  {
   "cell_type": "code",
   "execution_count": 10,
   "id": "middle-ridge",
   "metadata": {},
   "outputs": [
    {
     "data": {
      "text/html": [
       "<div>\n",
       "<style scoped>\n",
       "    .dataframe tbody tr th:only-of-type {\n",
       "        vertical-align: middle;\n",
       "    }\n",
       "\n",
       "    .dataframe tbody tr th {\n",
       "        vertical-align: top;\n",
       "    }\n",
       "\n",
       "    .dataframe thead th {\n",
       "        text-align: right;\n",
       "    }\n",
       "</style>\n",
       "<table border=\"1\" class=\"dataframe\">\n",
       "  <thead>\n",
       "    <tr style=\"text-align: right;\">\n",
       "      <th></th>\n",
       "      <th>Region</th>\n",
       "      <th>Country</th>\n",
       "      <th>ItemType</th>\n",
       "      <th>SalesChannel</th>\n",
       "      <th>OrderPriority</th>\n",
       "      <th>OrderDate</th>\n",
       "      <th>OrderID</th>\n",
       "      <th>ShipDate</th>\n",
       "      <th>UnitsSold</th>\n",
       "      <th>UnitPrice</th>\n",
       "      <th>UnitCost</th>\n",
       "      <th>TotalRevenue</th>\n",
       "      <th>TotalCost</th>\n",
       "      <th>TotalProfit</th>\n",
       "    </tr>\n",
       "  </thead>\n",
       "  <tbody>\n",
       "    <tr>\n",
       "      <th>8116</th>\n",
       "      <td>Sub-Saharan Africa</td>\n",
       "      <td>154.06</td>\n",
       "      <td>Household</td>\n",
       "      <td>Online</td>\n",
       "      <td>M</td>\n",
       "      <td>6/26/17</td>\n",
       "      <td>475624597</td>\n",
       "      <td>7/20/17</td>\n",
       "      <td>6742</td>\n",
       "      <td>668.270</td>\n",
       "      <td>502.540</td>\n",
       "      <td>4505476.340</td>\n",
       "      <td>3388124.680</td>\n",
       "      <td>1117351.660</td>\n",
       "    </tr>\n",
       "    <tr>\n",
       "      <th>21183</th>\n",
       "      <td>Middle East and North Africa</td>\n",
       "      <td>437.2</td>\n",
       "      <td>Baby Food</td>\n",
       "      <td>Online</td>\n",
       "      <td>M</td>\n",
       "      <td>4/25/13</td>\n",
       "      <td>123139846</td>\n",
       "      <td>5/9/13</td>\n",
       "      <td>8672</td>\n",
       "      <td>255.280</td>\n",
       "      <td>159.420</td>\n",
       "      <td>2213788.160</td>\n",
       "      <td>1382490.240</td>\n",
       "      <td>831297.920</td>\n",
       "    </tr>\n",
       "    <tr>\n",
       "      <th>30583</th>\n",
       "      <td>Middle East and North Africa</td>\n",
       "      <td>651.21</td>\n",
       "      <td>Office Supplies</td>\n",
       "      <td>Online</td>\n",
       "      <td>H</td>\n",
       "      <td>3/17/17</td>\n",
       "      <td>939173400</td>\n",
       "      <td>3/28/17</td>\n",
       "      <td>1134</td>\n",
       "      <td>651.210</td>\n",
       "      <td>524.960</td>\n",
       "      <td>738472.140</td>\n",
       "      <td>595304.640</td>\n",
       "      <td>143167.500</td>\n",
       "    </tr>\n",
       "  </tbody>\n",
       "</table>\n",
       "</div>"
      ],
      "text/plain": [
       "                             Region Country         ItemType SalesChannel  \\\n",
       "8116             Sub-Saharan Africa  154.06        Household       Online   \n",
       "21183  Middle East and North Africa   437.2        Baby Food       Online   \n",
       "30583  Middle East and North Africa  651.21  Office Supplies       Online   \n",
       "\n",
       "      OrderPriority OrderDate    OrderID ShipDate  UnitsSold  UnitPrice  \\\n",
       "8116              M   6/26/17  475624597  7/20/17       6742    668.270   \n",
       "21183             M   4/25/13  123139846   5/9/13       8672    255.280   \n",
       "30583             H   3/17/17  939173400  3/28/17       1134    651.210   \n",
       "\n",
       "       UnitCost  TotalRevenue   TotalCost  TotalProfit  \n",
       "8116    502.540   4505476.340 3388124.680  1117351.660  \n",
       "21183   159.420   2213788.160 1382490.240   831297.920  \n",
       "30583   524.960    738472.140  595304.640   143167.500  "
      ]
     },
     "execution_count": 10,
     "metadata": {},
     "output_type": "execute_result"
    }
   ],
   "source": [
    "# Country\n",
    "non_alphabetic_Country = df.Country.str.contains('[1-9]')\n",
    "df.loc[non_alphabetic_Country]\n",
    "\n",
    "# we can see that three rows have a number listed in the Country column; these will have to be changed to 'NULL'."
   ]
  },
  {
   "cell_type": "code",
   "execution_count": 17,
   "id": "ambient-marker",
   "metadata": {},
   "outputs": [
    {
     "name": "stdout",
     "output_type": "stream",
     "text": [
      "\n",
      "Testing for erroneous data in Country\n",
      "NULL\n",
      "NULL\n",
      "NULL\n",
      "Number of erroneous Country values: 3\n"
     ]
    }
   ],
   "source": [
    "# Here we are checking for incorrect data in the Country column, and changing it to NULL.\n",
    "\n",
    "count = 0\n",
    "\n",
    "print('\\nTesting for erroneous data in Country')\n",
    "for index, row in dfClean.iterrows():\n",
    "    try:\n",
    "        # try to convert each item to a float, if it succeeds, it is incorrect and must be changed to NULL.\n",
    "        row.loc['Country'] = float(row.loc['Country'])\n",
    "        dfClean.loc[int(index), 'Country'] = 'NULL'\n",
    "        print(dfClean.loc[int(index), 'Country'])\n",
    "        count+=1\n",
    "    except:\n",
    "        1==1\n",
    "        \n",
    "print(f'Number of erroneous Country values: {count}')"
   ]
  },
  {
   "cell_type": "code",
   "execution_count": 11,
   "id": "applied-error",
   "metadata": {},
   "outputs": [
    {
     "data": {
      "text/html": [
       "<div>\n",
       "<style scoped>\n",
       "    .dataframe tbody tr th:only-of-type {\n",
       "        vertical-align: middle;\n",
       "    }\n",
       "\n",
       "    .dataframe tbody tr th {\n",
       "        vertical-align: top;\n",
       "    }\n",
       "\n",
       "    .dataframe thead th {\n",
       "        text-align: right;\n",
       "    }\n",
       "</style>\n",
       "<table border=\"1\" class=\"dataframe\">\n",
       "  <thead>\n",
       "    <tr style=\"text-align: right;\">\n",
       "      <th></th>\n",
       "      <th>Region</th>\n",
       "      <th>Country</th>\n",
       "      <th>ItemType</th>\n",
       "      <th>SalesChannel</th>\n",
       "      <th>OrderPriority</th>\n",
       "      <th>OrderDate</th>\n",
       "      <th>OrderID</th>\n",
       "      <th>ShipDate</th>\n",
       "      <th>UnitsSold</th>\n",
       "      <th>UnitPrice</th>\n",
       "      <th>UnitCost</th>\n",
       "      <th>TotalRevenue</th>\n",
       "      <th>TotalCost</th>\n",
       "      <th>TotalProfit</th>\n",
       "    </tr>\n",
       "  </thead>\n",
       "  <tbody>\n",
       "    <tr>\n",
       "      <th>18738</th>\n",
       "      <td>Central America and the Caribbean</td>\n",
       "      <td>Dominica</td>\n",
       "      <td>Cosmetics</td>\n",
       "      <td>Offline</td>\n",
       "      <td>H</td>\n",
       "      <td>3/7/12</td>\n",
       "      <td>Cosmetics</td>\n",
       "      <td>4/18/12</td>\n",
       "      <td>1365</td>\n",
       "      <td>437.200</td>\n",
       "      <td>263.330</td>\n",
       "      <td>596778.000</td>\n",
       "      <td>359445.450</td>\n",
       "      <td>237332.550</td>\n",
       "    </tr>\n",
       "    <tr>\n",
       "      <th>19040</th>\n",
       "      <td>Asia</td>\n",
       "      <td>Philippines</td>\n",
       "      <td>Fruits</td>\n",
       "      <td>Online</td>\n",
       "      <td>H</td>\n",
       "      <td>7/7/13</td>\n",
       "      <td>Fruits</td>\n",
       "      <td>7/25/13</td>\n",
       "      <td>6052</td>\n",
       "      <td>9.330</td>\n",
       "      <td>6.920</td>\n",
       "      <td>56465.160</td>\n",
       "      <td>41879.840</td>\n",
       "      <td>14585.320</td>\n",
       "    </tr>\n",
       "    <tr>\n",
       "      <th>19302</th>\n",
       "      <td>Europe</td>\n",
       "      <td>Lithuania</td>\n",
       "      <td>Snacks</td>\n",
       "      <td>Online</td>\n",
       "      <td>L</td>\n",
       "      <td>12/27/12</td>\n",
       "      <td>Snacks</td>\n",
       "      <td>1/4/13</td>\n",
       "      <td>1203</td>\n",
       "      <td>152.580</td>\n",
       "      <td>97.440</td>\n",
       "      <td>183553.740</td>\n",
       "      <td>117220.320</td>\n",
       "      <td>66333.420</td>\n",
       "    </tr>\n",
       "    <tr>\n",
       "      <th>19472</th>\n",
       "      <td>Central America and the Caribbean</td>\n",
       "      <td>Saint Lucia</td>\n",
       "      <td>Meat</td>\n",
       "      <td>Offline</td>\n",
       "      <td>M</td>\n",
       "      <td>4/18/17</td>\n",
       "      <td>Meat</td>\n",
       "      <td>4/19/17</td>\n",
       "      <td>8468</td>\n",
       "      <td>421.890</td>\n",
       "      <td>364.690</td>\n",
       "      <td>3572564.520</td>\n",
       "      <td>3088194.920</td>\n",
       "      <td>484369.600</td>\n",
       "    </tr>\n",
       "    <tr>\n",
       "      <th>19473</th>\n",
       "      <td>Central America and the Caribbean</td>\n",
       "      <td>Guatemala</td>\n",
       "      <td>Snacks</td>\n",
       "      <td>Offline</td>\n",
       "      <td>H</td>\n",
       "      <td>12/20/13</td>\n",
       "      <td>Snacks</td>\n",
       "      <td>1/10/14</td>\n",
       "      <td>9053</td>\n",
       "      <td>152.580</td>\n",
       "      <td>97.440</td>\n",
       "      <td>1381306.740</td>\n",
       "      <td>882124.320</td>\n",
       "      <td>499182.420</td>\n",
       "    </tr>\n",
       "  </tbody>\n",
       "</table>\n",
       "</div>"
      ],
      "text/plain": [
       "                                  Region      Country   ItemType SalesChannel  \\\n",
       "18738  Central America and the Caribbean     Dominica  Cosmetics      Offline   \n",
       "19040                               Asia  Philippines     Fruits       Online   \n",
       "19302                             Europe    Lithuania     Snacks       Online   \n",
       "19472  Central America and the Caribbean  Saint Lucia       Meat      Offline   \n",
       "19473  Central America and the Caribbean    Guatemala     Snacks      Offline   \n",
       "\n",
       "      OrderPriority OrderDate    OrderID ShipDate  UnitsSold  UnitPrice  \\\n",
       "18738             H    3/7/12  Cosmetics  4/18/12       1365    437.200   \n",
       "19040             H    7/7/13     Fruits  7/25/13       6052      9.330   \n",
       "19302             L  12/27/12     Snacks   1/4/13       1203    152.580   \n",
       "19472             M   4/18/17       Meat  4/19/17       8468    421.890   \n",
       "19473             H  12/20/13     Snacks  1/10/14       9053    152.580   \n",
       "\n",
       "       UnitCost  TotalRevenue   TotalCost  TotalProfit  \n",
       "18738   263.330    596778.000  359445.450   237332.550  \n",
       "19040     6.920     56465.160   41879.840    14585.320  \n",
       "19302    97.440    183553.740  117220.320    66333.420  \n",
       "19472   364.690   3572564.520 3088194.920   484369.600  \n",
       "19473    97.440   1381306.740  882124.320   499182.420  "
      ]
     },
     "execution_count": 11,
     "metadata": {},
     "output_type": "execute_result"
    }
   ],
   "source": [
    "# Order ID\n",
    "non_numeric_OrderID = df.OrderID.str.contains('[a-z]')\n",
    "df.loc[non_numeric_OrderID]\n",
    "\n",
    "# here we see 5 rows with incorrect data listed in the Order ID column; we will replace these with 0s."
   ]
  },
  {
   "cell_type": "code",
   "execution_count": 14,
   "id": "legitimate-pontiac",
   "metadata": {},
   "outputs": [
    {
     "name": "stdout",
     "output_type": "stream",
     "text": [
      "\n",
      "Testing for erroneous data in Order ID\n",
      "0\n",
      "0\n",
      "0\n",
      "0\n",
      "0\n",
      "Number of erroneous OrderID values: 5\n"
     ]
    }
   ],
   "source": [
    "# Here we are checking for incorrect data in the Order ID column, and changing it to 0. \n",
    "# If the value in the Order ID column can be changed to a float, it is a correct numerical data value.\n",
    "\n",
    "count = 0\n",
    "\n",
    "print('\\nTesting for erroneous data in Order ID')\n",
    "for index, row in dfClean.iterrows():\n",
    "    try:\n",
    "        # try to convert each item to a float, if it fails, it is incorrect and must be changed to 0.\n",
    "        row.loc['OrderID'] = float(row.loc['OrderID'])\n",
    "        1==1\n",
    "    except:\n",
    "        dfClean.loc[int(index), 'OrderID'] = 0\n",
    "        print(dfClean.loc[int(index), 'OrderID'])\n",
    "        count+=1\n",
    "        \n",
    "print(f'Number of erroneous OrderID values: {count}')"
   ]
  },
  {
   "cell_type": "code",
   "execution_count": 14,
   "id": "conditional-pioneer",
   "metadata": {},
   "outputs": [
    {
     "data": {
      "text/html": [
       "<div>\n",
       "<style scoped>\n",
       "    .dataframe tbody tr th:only-of-type {\n",
       "        vertical-align: middle;\n",
       "    }\n",
       "\n",
       "    .dataframe tbody tr th {\n",
       "        vertical-align: top;\n",
       "    }\n",
       "\n",
       "    .dataframe thead th {\n",
       "        text-align: right;\n",
       "    }\n",
       "</style>\n",
       "<table border=\"1\" class=\"dataframe\">\n",
       "  <thead>\n",
       "    <tr style=\"text-align: right;\">\n",
       "      <th></th>\n",
       "      <th>Region</th>\n",
       "      <th>Country</th>\n",
       "      <th>SalesChannel</th>\n",
       "      <th>OrderPriority</th>\n",
       "      <th>OrderDate</th>\n",
       "      <th>OrderID</th>\n",
       "      <th>ShipDate</th>\n",
       "      <th>UnitsSold</th>\n",
       "      <th>UnitPrice</th>\n",
       "      <th>UnitCost</th>\n",
       "      <th>TotalRevenue</th>\n",
       "      <th>TotalCost</th>\n",
       "      <th>TotalProfit</th>\n",
       "    </tr>\n",
       "    <tr>\n",
       "      <th>ItemType</th>\n",
       "      <th></th>\n",
       "      <th></th>\n",
       "      <th></th>\n",
       "      <th></th>\n",
       "      <th></th>\n",
       "      <th></th>\n",
       "      <th></th>\n",
       "      <th></th>\n",
       "      <th></th>\n",
       "      <th></th>\n",
       "      <th></th>\n",
       "      <th></th>\n",
       "      <th></th>\n",
       "    </tr>\n",
       "  </thead>\n",
       "  <tbody>\n",
       "    <tr>\n",
       "      <th>Baby Food</th>\n",
       "      <td>4078</td>\n",
       "      <td>4078</td>\n",
       "      <td>4078</td>\n",
       "      <td>4078</td>\n",
       "      <td>4078</td>\n",
       "      <td>4078</td>\n",
       "      <td>4078</td>\n",
       "      <td>4078</td>\n",
       "      <td>4078</td>\n",
       "      <td>4078</td>\n",
       "      <td>4078</td>\n",
       "      <td>4078</td>\n",
       "      <td>4078</td>\n",
       "    </tr>\n",
       "    <tr>\n",
       "      <th>Beverages</th>\n",
       "      <td>4173</td>\n",
       "      <td>4173</td>\n",
       "      <td>4173</td>\n",
       "      <td>4173</td>\n",
       "      <td>4173</td>\n",
       "      <td>4173</td>\n",
       "      <td>4173</td>\n",
       "      <td>4173</td>\n",
       "      <td>4173</td>\n",
       "      <td>4173</td>\n",
       "      <td>4173</td>\n",
       "      <td>4173</td>\n",
       "      <td>4173</td>\n",
       "    </tr>\n",
       "    <tr>\n",
       "      <th>Cereal</th>\n",
       "      <td>4141</td>\n",
       "      <td>4141</td>\n",
       "      <td>4141</td>\n",
       "      <td>4141</td>\n",
       "      <td>4141</td>\n",
       "      <td>4141</td>\n",
       "      <td>4141</td>\n",
       "      <td>4141</td>\n",
       "      <td>4141</td>\n",
       "      <td>4141</td>\n",
       "      <td>4141</td>\n",
       "      <td>4141</td>\n",
       "      <td>4141</td>\n",
       "    </tr>\n",
       "    <tr>\n",
       "      <th>Clothes</th>\n",
       "      <td>4155</td>\n",
       "      <td>4155</td>\n",
       "      <td>4155</td>\n",
       "      <td>4155</td>\n",
       "      <td>4155</td>\n",
       "      <td>4155</td>\n",
       "      <td>4155</td>\n",
       "      <td>4155</td>\n",
       "      <td>4155</td>\n",
       "      <td>4155</td>\n",
       "      <td>4155</td>\n",
       "      <td>4155</td>\n",
       "      <td>4155</td>\n",
       "    </tr>\n",
       "    <tr>\n",
       "      <th>Cosmetics</th>\n",
       "      <td>4192</td>\n",
       "      <td>4192</td>\n",
       "      <td>4192</td>\n",
       "      <td>4192</td>\n",
       "      <td>4192</td>\n",
       "      <td>4192</td>\n",
       "      <td>4192</td>\n",
       "      <td>4192</td>\n",
       "      <td>4192</td>\n",
       "      <td>4192</td>\n",
       "      <td>4192</td>\n",
       "      <td>4192</td>\n",
       "      <td>4192</td>\n",
       "    </tr>\n",
       "    <tr>\n",
       "      <th>Fruits</th>\n",
       "      <td>4221</td>\n",
       "      <td>4221</td>\n",
       "      <td>4221</td>\n",
       "      <td>4221</td>\n",
       "      <td>4221</td>\n",
       "      <td>4221</td>\n",
       "      <td>4221</td>\n",
       "      <td>4221</td>\n",
       "      <td>4221</td>\n",
       "      <td>4221</td>\n",
       "      <td>4221</td>\n",
       "      <td>4221</td>\n",
       "      <td>4221</td>\n",
       "    </tr>\n",
       "    <tr>\n",
       "      <th>Household</th>\n",
       "      <td>4138</td>\n",
       "      <td>4138</td>\n",
       "      <td>4138</td>\n",
       "      <td>4138</td>\n",
       "      <td>4138</td>\n",
       "      <td>4138</td>\n",
       "      <td>4138</td>\n",
       "      <td>4138</td>\n",
       "      <td>4138</td>\n",
       "      <td>4138</td>\n",
       "      <td>4138</td>\n",
       "      <td>4138</td>\n",
       "      <td>4138</td>\n",
       "    </tr>\n",
       "    <tr>\n",
       "      <th>Meat</th>\n",
       "      <td>4221</td>\n",
       "      <td>4221</td>\n",
       "      <td>4221</td>\n",
       "      <td>4221</td>\n",
       "      <td>4221</td>\n",
       "      <td>4221</td>\n",
       "      <td>4221</td>\n",
       "      <td>4221</td>\n",
       "      <td>4221</td>\n",
       "      <td>4221</td>\n",
       "      <td>4221</td>\n",
       "      <td>4221</td>\n",
       "      <td>4221</td>\n",
       "    </tr>\n",
       "    <tr>\n",
       "      <th>NULL</th>\n",
       "      <td>6</td>\n",
       "      <td>6</td>\n",
       "      <td>6</td>\n",
       "      <td>6</td>\n",
       "      <td>6</td>\n",
       "      <td>6</td>\n",
       "      <td>6</td>\n",
       "      <td>6</td>\n",
       "      <td>6</td>\n",
       "      <td>6</td>\n",
       "      <td>6</td>\n",
       "      <td>6</td>\n",
       "      <td>6</td>\n",
       "    </tr>\n",
       "    <tr>\n",
       "      <th>Office Supplies</th>\n",
       "      <td>4138</td>\n",
       "      <td>4138</td>\n",
       "      <td>4138</td>\n",
       "      <td>4138</td>\n",
       "      <td>4138</td>\n",
       "      <td>4138</td>\n",
       "      <td>4138</td>\n",
       "      <td>4138</td>\n",
       "      <td>4138</td>\n",
       "      <td>4138</td>\n",
       "      <td>4138</td>\n",
       "      <td>4138</td>\n",
       "      <td>4138</td>\n",
       "    </tr>\n",
       "    <tr>\n",
       "      <th>Personal Care</th>\n",
       "      <td>4185</td>\n",
       "      <td>4185</td>\n",
       "      <td>4185</td>\n",
       "      <td>4185</td>\n",
       "      <td>4185</td>\n",
       "      <td>4185</td>\n",
       "      <td>4185</td>\n",
       "      <td>4185</td>\n",
       "      <td>4185</td>\n",
       "      <td>4185</td>\n",
       "      <td>4185</td>\n",
       "      <td>4185</td>\n",
       "      <td>4185</td>\n",
       "    </tr>\n",
       "    <tr>\n",
       "      <th>Snacks</th>\n",
       "      <td>4163</td>\n",
       "      <td>4163</td>\n",
       "      <td>4163</td>\n",
       "      <td>4163</td>\n",
       "      <td>4163</td>\n",
       "      <td>4163</td>\n",
       "      <td>4163</td>\n",
       "      <td>4163</td>\n",
       "      <td>4163</td>\n",
       "      <td>4163</td>\n",
       "      <td>4163</td>\n",
       "      <td>4163</td>\n",
       "      <td>4163</td>\n",
       "    </tr>\n",
       "    <tr>\n",
       "      <th>Vegetables</th>\n",
       "      <td>4189</td>\n",
       "      <td>4189</td>\n",
       "      <td>4189</td>\n",
       "      <td>4189</td>\n",
       "      <td>4189</td>\n",
       "      <td>4189</td>\n",
       "      <td>4189</td>\n",
       "      <td>4189</td>\n",
       "      <td>4189</td>\n",
       "      <td>4189</td>\n",
       "      <td>4189</td>\n",
       "      <td>4189</td>\n",
       "      <td>4189</td>\n",
       "    </tr>\n",
       "  </tbody>\n",
       "</table>\n",
       "</div>"
      ],
      "text/plain": [
       "                 Region  Country  SalesChannel  OrderPriority  OrderDate  \\\n",
       "ItemType                                                                   \n",
       "Baby Food          4078     4078          4078           4078       4078   \n",
       "Beverages          4173     4173          4173           4173       4173   \n",
       "Cereal             4141     4141          4141           4141       4141   \n",
       "Clothes            4155     4155          4155           4155       4155   \n",
       "Cosmetics          4192     4192          4192           4192       4192   \n",
       "Fruits             4221     4221          4221           4221       4221   \n",
       "Household          4138     4138          4138           4138       4138   \n",
       "Meat               4221     4221          4221           4221       4221   \n",
       "NULL                  6        6             6              6          6   \n",
       "Office Supplies    4138     4138          4138           4138       4138   \n",
       "Personal Care      4185     4185          4185           4185       4185   \n",
       "Snacks             4163     4163          4163           4163       4163   \n",
       "Vegetables         4189     4189          4189           4189       4189   \n",
       "\n",
       "                 OrderID  ShipDate  UnitsSold  UnitPrice  UnitCost  \\\n",
       "ItemType                                                             \n",
       "Baby Food           4078      4078       4078       4078      4078   \n",
       "Beverages           4173      4173       4173       4173      4173   \n",
       "Cereal              4141      4141       4141       4141      4141   \n",
       "Clothes             4155      4155       4155       4155      4155   \n",
       "Cosmetics           4192      4192       4192       4192      4192   \n",
       "Fruits              4221      4221       4221       4221      4221   \n",
       "Household           4138      4138       4138       4138      4138   \n",
       "Meat                4221      4221       4221       4221      4221   \n",
       "NULL                   6         6          6          6         6   \n",
       "Office Supplies     4138      4138       4138       4138      4138   \n",
       "Personal Care       4185      4185       4185       4185      4185   \n",
       "Snacks              4163      4163       4163       4163      4163   \n",
       "Vegetables          4189      4189       4189       4189      4189   \n",
       "\n",
       "                 TotalRevenue  TotalCost  TotalProfit  \n",
       "ItemType                                               \n",
       "Baby Food                4078       4078         4078  \n",
       "Beverages                4173       4173         4173  \n",
       "Cereal                   4141       4141         4141  \n",
       "Clothes                  4155       4155         4155  \n",
       "Cosmetics                4192       4192         4192  \n",
       "Fruits                   4221       4221         4221  \n",
       "Household                4138       4138         4138  \n",
       "Meat                     4221       4221         4221  \n",
       "NULL                        6          6            6  \n",
       "Office Supplies          4138       4138         4138  \n",
       "Personal Care            4185       4185         4185  \n",
       "Snacks                   4163       4163         4163  \n",
       "Vegetables               4189       4189         4189  "
      ]
     },
     "execution_count": 14,
     "metadata": {},
     "output_type": "execute_result"
    }
   ],
   "source": [
    "# Item Type\n",
    "df.groupby(['ItemType']).count()\n",
    "\n",
    "# here we can see that there are no incorrect or uncommon Item Type values other than the NULL values."
   ]
  },
  {
   "cell_type": "code",
   "execution_count": 15,
   "id": "precious-moral",
   "metadata": {},
   "outputs": [
    {
     "data": {
      "text/html": [
       "<div>\n",
       "<style scoped>\n",
       "    .dataframe tbody tr th:only-of-type {\n",
       "        vertical-align: middle;\n",
       "    }\n",
       "\n",
       "    .dataframe tbody tr th {\n",
       "        vertical-align: top;\n",
       "    }\n",
       "\n",
       "    .dataframe thead th {\n",
       "        text-align: right;\n",
       "    }\n",
       "</style>\n",
       "<table border=\"1\" class=\"dataframe\">\n",
       "  <thead>\n",
       "    <tr style=\"text-align: right;\">\n",
       "      <th></th>\n",
       "      <th>Region</th>\n",
       "      <th>Country</th>\n",
       "      <th>ItemType</th>\n",
       "      <th>SalesChannel</th>\n",
       "      <th>OrderDate</th>\n",
       "      <th>OrderID</th>\n",
       "      <th>ShipDate</th>\n",
       "      <th>UnitsSold</th>\n",
       "      <th>UnitPrice</th>\n",
       "      <th>UnitCost</th>\n",
       "      <th>TotalRevenue</th>\n",
       "      <th>TotalCost</th>\n",
       "      <th>TotalProfit</th>\n",
       "    </tr>\n",
       "    <tr>\n",
       "      <th>OrderPriority</th>\n",
       "      <th></th>\n",
       "      <th></th>\n",
       "      <th></th>\n",
       "      <th></th>\n",
       "      <th></th>\n",
       "      <th></th>\n",
       "      <th></th>\n",
       "      <th></th>\n",
       "      <th></th>\n",
       "      <th></th>\n",
       "      <th></th>\n",
       "      <th></th>\n",
       "      <th></th>\n",
       "    </tr>\n",
       "  </thead>\n",
       "  <tbody>\n",
       "    <tr>\n",
       "      <th>C</th>\n",
       "      <td>5013</td>\n",
       "      <td>5013</td>\n",
       "      <td>5013</td>\n",
       "      <td>5013</td>\n",
       "      <td>5013</td>\n",
       "      <td>5013</td>\n",
       "      <td>5013</td>\n",
       "      <td>5013</td>\n",
       "      <td>5013</td>\n",
       "      <td>5013</td>\n",
       "      <td>5013</td>\n",
       "      <td>5013</td>\n",
       "      <td>5013</td>\n",
       "    </tr>\n",
       "    <tr>\n",
       "      <th>H</th>\n",
       "      <td>15099</td>\n",
       "      <td>15099</td>\n",
       "      <td>15099</td>\n",
       "      <td>15099</td>\n",
       "      <td>15099</td>\n",
       "      <td>15099</td>\n",
       "      <td>15099</td>\n",
       "      <td>15099</td>\n",
       "      <td>15099</td>\n",
       "      <td>15099</td>\n",
       "      <td>15099</td>\n",
       "      <td>15099</td>\n",
       "      <td>15099</td>\n",
       "    </tr>\n",
       "    <tr>\n",
       "      <th>L</th>\n",
       "      <td>9986</td>\n",
       "      <td>9986</td>\n",
       "      <td>9986</td>\n",
       "      <td>9986</td>\n",
       "      <td>9986</td>\n",
       "      <td>9986</td>\n",
       "      <td>9986</td>\n",
       "      <td>9986</td>\n",
       "      <td>9986</td>\n",
       "      <td>9986</td>\n",
       "      <td>9986</td>\n",
       "      <td>9986</td>\n",
       "      <td>9986</td>\n",
       "    </tr>\n",
       "    <tr>\n",
       "      <th>M</th>\n",
       "      <td>19887</td>\n",
       "      <td>19887</td>\n",
       "      <td>19887</td>\n",
       "      <td>19887</td>\n",
       "      <td>19887</td>\n",
       "      <td>19887</td>\n",
       "      <td>19887</td>\n",
       "      <td>19887</td>\n",
       "      <td>19887</td>\n",
       "      <td>19887</td>\n",
       "      <td>19887</td>\n",
       "      <td>19887</td>\n",
       "      <td>19887</td>\n",
       "    </tr>\n",
       "    <tr>\n",
       "      <th>NULL</th>\n",
       "      <td>15</td>\n",
       "      <td>15</td>\n",
       "      <td>15</td>\n",
       "      <td>15</td>\n",
       "      <td>15</td>\n",
       "      <td>15</td>\n",
       "      <td>15</td>\n",
       "      <td>15</td>\n",
       "      <td>15</td>\n",
       "      <td>15</td>\n",
       "      <td>15</td>\n",
       "      <td>15</td>\n",
       "      <td>15</td>\n",
       "    </tr>\n",
       "  </tbody>\n",
       "</table>\n",
       "</div>"
      ],
      "text/plain": [
       "               Region  Country  ItemType  SalesChannel  OrderDate  OrderID  \\\n",
       "OrderPriority                                                                \n",
       "C                5013     5013      5013          5013       5013     5013   \n",
       "H               15099    15099     15099         15099      15099    15099   \n",
       "L                9986     9986      9986          9986       9986     9986   \n",
       "M               19887    19887     19887         19887      19887    19887   \n",
       "NULL               15       15        15            15         15       15   \n",
       "\n",
       "               ShipDate  UnitsSold  UnitPrice  UnitCost  TotalRevenue  \\\n",
       "OrderPriority                                                           \n",
       "C                  5013       5013       5013      5013          5013   \n",
       "H                 15099      15099      15099     15099         15099   \n",
       "L                  9986       9986       9986      9986          9986   \n",
       "M                 19887      19887      19887     19887         19887   \n",
       "NULL                 15         15         15        15            15   \n",
       "\n",
       "               TotalCost  TotalProfit  \n",
       "OrderPriority                          \n",
       "C                   5013         5013  \n",
       "H                  15099        15099  \n",
       "L                   9986         9986  \n",
       "M                  19887        19887  \n",
       "NULL                  15           15  "
      ]
     },
     "execution_count": 15,
     "metadata": {},
     "output_type": "execute_result"
    }
   ],
   "source": [
    "#Order Priority\n",
    "\n",
    "df.groupby(['OrderPriority']).count()\n",
    "\n",
    "# similar story with Order Priority. We can simply remove the NULL values."
   ]
  },
  {
   "cell_type": "code",
   "execution_count": 214,
   "id": "original-reduction",
   "metadata": {},
   "outputs": [
    {
     "name": "stdout",
     "output_type": "stream",
     "text": [
      "<class 'pandas.core.frame.DataFrame'>\n",
      "Int64Index: 49971 entries, 0 to 49970\n",
      "Data columns (total 14 columns):\n",
      " #   Column         Non-Null Count  Dtype  \n",
      "---  ------         --------------  -----  \n",
      " 0   Region         49971 non-null  object \n",
      " 1   Country        49971 non-null  object \n",
      " 2   ItemType       49971 non-null  object \n",
      " 3   SalesChannel   49971 non-null  object \n",
      " 4   OrderPriority  49971 non-null  object \n",
      " 5   OrderDate      49971 non-null  object \n",
      " 6   OrderID        49971 non-null  int64  \n",
      " 7   ShipDate       49971 non-null  object \n",
      " 8   UnitsSold      49971 non-null  int64  \n",
      " 9   UnitPrice      49971 non-null  float64\n",
      " 10  UnitCost       49971 non-null  float64\n",
      " 11  TotalRevenue   49971 non-null  float64\n",
      " 12  TotalCost      49971 non-null  float64\n",
      " 13  TotalProfit    49971 non-null  float64\n",
      "dtypes: float64(5), int64(2), object(7)\n",
      "memory usage: 5.7+ MB\n"
     ]
    }
   ],
   "source": [
    "# This block of code removes all rows where there is a NULL value in the Country, ItemType, or OrderPriority columns\n",
    "# or a 0 in the OrderID column.\n",
    "\n",
    "dfClean = dfClean[dfClean.Country != 'NULL']\n",
    "dfClean = dfClean[dfClean.ItemType != 'NULL']\n",
    "dfClean = dfClean[dfClean.OrderPriority != 'NULL']\n",
    "dfClean = dfClean[dfClean.OrderID != 0]\n",
    "\n",
    "dfClean.info()"
   ]
  },
  {
   "cell_type": "code",
   "execution_count": 14,
   "id": "understood-judge",
   "metadata": {},
   "outputs": [
    {
     "name": "stdout",
     "output_type": "stream",
     "text": [
      "0\n",
      "0\n",
      "0\n",
      "0\n"
     ]
    }
   ],
   "source": [
    "# Final check for null and 0 values in our altered rows.\n",
    "\n",
    "print(dfClean['Country'][dfClean['Country'] == 'NULL'].count())\n",
    "print(dfClean['ItemType'][dfClean['ItemType'] == 'NULL'].count())\n",
    "print(dfClean['OrderPriority'][dfClean['OrderPriority'] == 'NULL'].count())\n",
    "print(dfClean['OrderID'][dfClean['OrderID'] == 0].count())"
   ]
  },
  {
   "cell_type": "code",
   "execution_count": 31,
   "id": "convertible-coordination",
   "metadata": {},
   "outputs": [],
   "source": [
    "# Now we will finally write this new clean df to a new csv file called MM_Sales_clean.csv.\n",
    "# index=False removes the index column when writing.\n",
    "\n",
    "dfClean.to_csv('DataSamples/MM_Sales_clean.csv', index=False)"
   ]
  },
  {
   "cell_type": "markdown",
   "id": "adapted-canberra",
   "metadata": {},
   "source": [
    "## Part 2: Data Analysis w/ Reports and Visualizations"
   ]
  },
  {
   "cell_type": "markdown",
   "id": "stuffed-baseline",
   "metadata": {},
   "source": [
    "Build a function to append to a file, or write to file; two different functions."
   ]
  },
  {
   "cell_type": "markdown",
   "id": "lucky-gross",
   "metadata": {},
   "source": [
    "#### Question 1"
   ]
  },
  {
   "cell_type": "markdown",
   "id": "nervous-branch",
   "metadata": {},
   "source": [
    "1) 1. Visualizations"
   ]
  },
  {
   "cell_type": "markdown",
   "id": "foreign-observation",
   "metadata": {},
   "source": [
    "We want to know which countries we sell to the most so we can pick a new location to build a shipping center. Rank the Top 10 countries we sell to, most to least, along with the number of sales we've had with that country."
   ]
  },
  {
   "cell_type": "code",
   "execution_count": 35,
   "id": "satisfactory-hamburg",
   "metadata": {},
   "outputs": [
    {
     "name": "stdout",
     "output_type": "stream",
     "text": [
      "Country\n",
      "Trinidad and Tobago                 321\n",
      "Guinea                              318\n",
      "Cape Verde                          314\n",
      "Maldives                            311\n",
      "Finland                             310\n",
      "Democratic Republic of the Congo    308\n",
      "Samoa                               306\n",
      "Malta                               305\n",
      "China                               303\n",
      "South Sudan                         302\n",
      "Name: OrderID, dtype: int64\n"
     ]
    }
   ],
   "source": [
    "# This reads in our new clean csv and displays the top 10 countries by number of sale transactions.\n",
    "\n",
    "dfClean = pd.read_csv('DataSamples/MM_Sales_clean.csv')\n",
    "\n",
    "dfCountries = dfClean.groupby(['Country']).count()\n",
    "transactions = dfCountries['OrderID']\n",
    "top10 = transactions.nlargest(10)\n",
    "print(top10)"
   ]
  },
  {
   "cell_type": "code",
   "execution_count": 48,
   "id": "infrared-ukraine",
   "metadata": {},
   "outputs": [
    {
     "data": {
      "image/png": "[encoded data removed]",
      "text/plain": [
       "<Figure size 1440x432 with 1 Axes>"
      ]
     },
     "metadata": {},
     "output_type": "display_data"
    }
   ],
   "source": [
    "# Now we create a chart visualizing this data.\n",
    "\n",
    "plt.figure(figsize=(20, 6))\n",
    "plt.bar(top10.index, top10.values, align='center', width=0.5)\n",
    "plt.title('Countries by # of Sale Transactions')\n",
    "plt.xlabel('Country')\n",
    "plt.ylabel('# of Sale Transactions')\n",
    "plt.show()"
   ]
  },
  {
   "cell_type": "markdown",
   "id": "characteristic-richardson",
   "metadata": {},
   "source": [
    "We have shipping centers in Trinidad and Tobago, Guinea, and Maldives right now. Based on our results, it would be most logical to build a shipping center in Cape Verde, Finland, or the DRC. The first choice would probably be Finland or DRC because Cape Verde is relatively close to Guinea which already has a shipping center."
   ]
  },
  {
   "cell_type": "markdown",
   "id": "general-airline",
   "metadata": {},
   "source": [
    "1) 2. Writing the results to a text file"
   ]
  },
  {
   "cell_type": "code",
   "execution_count": 2,
   "id": "informative-pound",
   "metadata": {},
   "outputs": [],
   "source": [
    "# Creating a new MM_Rankings.txt file and appending to it.\n",
    "\n",
    "with open('DataSamples/MM_Rankings.txt', 'a+') as writer:\n",
    "    writer.write('Countries Most Sale Transactions:')\n",
    "    writer.write('\\n\\n')"
   ]
  },
  {
   "cell_type": "code",
   "execution_count": 3,
   "id": "planned-softball",
   "metadata": {},
   "outputs": [],
   "source": [
    "# Appending our results to the new file.\n",
    "\n",
    "with open('DataSamples/MM_Rankings.txt', 'a+') as writer:\n",
    "    writer.write('Trinidad and Tobago:  321 \\n')\n",
    "    writer.write('Guinea:  318 \\n')\n",
    "    writer.write('Cape Verde:  314 \\n')\n",
    "    writer.write('Maldives:  311 \\n')\n",
    "    writer.write('Finland:  310 \\n')\n",
    "    writer.write('DRC:  308 \\n')\n",
    "    writer.write('Samoa:  306 \\n')\n",
    "    writer.write('Malta:  305 \\n')\n",
    "    writer.write('China:  303 \\n')\n",
    "    writer.write('South Sudan:  302 \\n')\n",
    "    writer.write('We have shipping centers in Trinidad and Tobago, Guinea, and Maldives right now.\\n') \n",
    "    writer.write('The country we should build our shipping center in is Finland because of its high relative number of orders and lack of shipping center nearby.\\n')\n",
    "    writer.write('The first choice would be Finland or the DRC because Cape Verde is relatively close to Guinea which already has a shipping center.\\n\\n\\n')"
   ]
  },
  {
   "cell_type": "markdown",
   "id": "strange-dinner",
   "metadata": {},
   "source": [
    "#### Question 2"
   ]
  },
  {
   "cell_type": "markdown",
   "id": "developing-patrick",
   "metadata": {},
   "source": [
    "2) 1."
   ]
  },
  {
   "cell_type": "code",
   "execution_count": 96,
   "id": "sticky-arctic",
   "metadata": {},
   "outputs": [
    {
     "data": {
      "text/plain": [
       "SalesChannel\n",
       "Offline    19788\n",
       "Online     30183\n",
       "Name: OrderID, dtype: int64"
      ]
     },
     "execution_count": 96,
     "metadata": {},
     "output_type": "execute_result"
    }
   ],
   "source": [
    "# Count of online and offline orders.\n",
    "\n",
    "dfClean = pd.read_csv('DataSamples/MM_Sales_clean.csv')\n",
    "\n",
    "salesChannel = dfClean.groupby(['SalesChannel']).count()\n",
    "salesChannel['OrderID']"
   ]
  },
  {
   "cell_type": "markdown",
   "id": "shared-alexandria",
   "metadata": {},
   "source": [
    "2) 2."
   ]
  },
  {
   "cell_type": "code",
   "execution_count": 106,
   "id": "interesting-flower",
   "metadata": {},
   "outputs": [
    {
     "data": {
      "text/plain": [
       "OrderPriority\n",
       "M    19881\n",
       "H    15094\n",
       "L     9984\n",
       "C     5012\n",
       "Name: OrderID, dtype: int64"
      ]
     },
     "execution_count": 106,
     "metadata": {},
     "output_type": "execute_result"
    }
   ],
   "source": [
    "# Count of different Order Priority types.\n",
    "\n",
    "orderPriorityTypes = dfClean.groupby(['OrderPriority']).count()\n",
    "orderPriorityTypes['OrderID'].sort_values(ascending=False)"
   ]
  },
  {
   "cell_type": "markdown",
   "id": "innocent-cleanup",
   "metadata": {},
   "source": [
    "2) 3."
   ]
  },
  {
   "cell_type": "code",
   "execution_count": 98,
   "id": "annual-upgrade",
   "metadata": {},
   "outputs": [
    {
     "data": {
      "image/png": "[encoded data removed]",
      "text/plain": [
       "<Figure size 504x504 with 1 Axes>"
      ]
     },
     "metadata": {},
     "output_type": "display_data"
    }
   ],
   "source": [
    "# Pie chart for Sales Channels.\n",
    "\n",
    "plt.figure(figsize=(7, 7))\n",
    "plt.pie(salesChannel['OrderID'], labels=salesChannel['OrderID'].index, autopct='%.2f')\n",
    "plt.axis('equal')   #centers chart\n",
    "plt.legend(loc=4, title='Sales Channels')\n",
    "plt.show()"
   ]
  },
  {
   "cell_type": "code",
   "execution_count": 108,
   "id": "regular-grace",
   "metadata": {},
   "outputs": [
    {
     "data": {
      "image/png": "[encoded data removed]",
      "text/plain": [
       "<Figure size 504x504 with 1 Axes>"
      ]
     },
     "metadata": {},
     "output_type": "display_data"
    }
   ],
   "source": [
    "# Pie chart for Order Priorities\n",
    "\n",
    "plt.figure(figsize=(7, 7))\n",
    "plt.pie(orderPriorityTypes['OrderID'].sort_values(), labels=orderPriorityTypes['OrderID'].index, autopct='%.2f')\n",
    "plt.axis('equal')   #centers chart\n",
    "plt.legend(loc=3, title='Order Priorities')\n",
    "plt.show()"
   ]
  },
  {
   "cell_type": "markdown",
   "id": "desirable-massachusetts",
   "metadata": {},
   "source": [
    "2) 4."
   ]
  },
  {
   "cell_type": "code",
   "execution_count": 4,
   "id": "lesbian-numbers",
   "metadata": {},
   "outputs": [],
   "source": [
    "# Adding the results to the MM_Rankings.txt file. \n",
    "\n",
    "with open('DataSamples/MM_Rankings.txt', 'a+') as writer:\n",
    "    writer.write('Sales Channels:\\n')\n",
    "    writer.write('Online: 30183\\n')\n",
    "    writer.write('Offline: 19788\\n')\n",
    "    writer.write('We do more Online Sales.\\n\\n')\n",
    "    writer.write('Order Priorities:\\n')\n",
    "    writer.write('L: 9984\\n')\n",
    "    writer.write('M: 19881\\n')\n",
    "    writer.write('H: 15094\\n')\n",
    "    writer.write('C: 5012\\n')\n",
    "    writer.write('We do more M order priorities\\n\\n')"
   ]
  },
  {
   "cell_type": "markdown",
   "id": "molecular-graduation",
   "metadata": {},
   "source": [
    "#### Question 3"
   ]
  },
  {
   "cell_type": "markdown",
   "id": "stone-oliver",
   "metadata": {},
   "source": [
    "3) 1. "
   ]
  },
  {
   "cell_type": "code",
   "execution_count": 126,
   "id": "blind-survey",
   "metadata": {},
   "outputs": [
    {
     "name": "stderr",
     "output_type": "stream",
     "text": [
      "/Users/oliverhering/opt/anaconda3/lib/python3.8/site-packages/seaborn/_decorators.py:36: FutureWarning: Pass the following variables as keyword args: x, y. From version 0.12, the only valid positional argument will be `data`, and passing other arguments without an explicit keyword will result in an error or misinterpretation.\n",
      "  warnings.warn(\n"
     ]
    },
    {
     "data": {
      "image/png": "[encoded data removed]",
      "text/plain": [
       "<Figure size 1080x360 with 1 Axes>"
      ]
     },
     "metadata": {},
     "output_type": "display_data"
    }
   ],
   "source": [
    "# Creating a seaborn boxplot showing the Total Profits distribution by Item Type.\n",
    "\n",
    "dfClean = pd.read_csv('DataSamples/MM_Sales_clean.csv')\n",
    "\n",
    "plt.figure(figsize=(15, 5))\n",
    "plt.title('Total Profits by Item Type')\n",
    "ax = sns.boxplot(dfClean.TotalProfit, dfClean.ItemType)"
   ]
  },
  {
   "cell_type": "markdown",
   "id": "institutional-uncle",
   "metadata": {},
   "source": [
    "3) 2."
   ]
  },
  {
   "cell_type": "code",
   "execution_count": 131,
   "id": "cultural-thomas",
   "metadata": {},
   "outputs": [
    {
     "data": {
      "text/plain": [
       "ItemType\n",
       "Cosmetics         3638407966.750\n",
       "Household         3401180998.060\n",
       "Office Supplies   2605440187.500\n",
       "Baby Food         1942865748.120\n",
       "Cereal            1824726412.290\n",
       "Clothes           1520832019.680\n",
       "Vegetables        1322639660.240\n",
       "Meat              1196342404.400\n",
       "Snacks            1149715758.720\n",
       "Personal Care      535250525.600\n",
       "Beverages          327559249.080\n",
       "Fruits              51010570.920\n",
       "Name: TotalProfit, dtype: float64"
      ]
     },
     "execution_count": 131,
     "metadata": {},
     "output_type": "execute_result"
    }
   ],
   "source": [
    "# Determining the sum of Total Profit by Item Type.\n",
    "\n",
    "totalProfit = dfClean.groupby('ItemType').sum()\n",
    "totalProfit['TotalProfit'].sort_values(ascending=False)"
   ]
  },
  {
   "cell_type": "markdown",
   "id": "indie-insured",
   "metadata": {},
   "source": [
    "3) 3."
   ]
  },
  {
   "cell_type": "code",
   "execution_count": 136,
   "id": "cathedral-polyester",
   "metadata": {},
   "outputs": [
    {
     "data": {
      "image/png": "[encoded data removed]",
      "text/plain": [
       "<Figure size 1440x432 with 1 Axes>"
      ]
     },
     "metadata": {},
     "output_type": "display_data"
    }
   ],
   "source": [
    "# Chart showing the above data.\n",
    "\n",
    "plt.figure(figsize=(20, 6))\n",
    "plt.bar(totalProfit['TotalProfit'].sort_values(ascending=False).index, totalProfit['TotalProfit'].sort_values(ascending=False).values, color='g', width=0.3)\n",
    "plt.title('Total Profit by Item Type')\n",
    "plt.xlabel('Item Type')\n",
    "plt.ylabel('Sum of Total Profit (Billions)')\n",
    "plt.show()"
   ]
  },
  {
   "cell_type": "markdown",
   "id": "excessive-picture",
   "metadata": {},
   "source": [
    "3) 4. "
   ]
  },
  {
   "cell_type": "code",
   "execution_count": 137,
   "id": "arbitrary-concrete",
   "metadata": {},
   "outputs": [
    {
     "data": {
      "text/plain": [
       "ItemType\n",
       "Cosmetics         3638407966.750\n",
       "Household         3401180998.060\n",
       "Office Supplies   2605440187.500\n",
       "Name: TotalProfit, dtype: float64"
      ]
     },
     "execution_count": 137,
     "metadata": {},
     "output_type": "execute_result"
    }
   ],
   "source": [
    "# Ranking top 3 Item Types which brought in the most Total Profit.\n",
    "\n",
    "totalProfit['TotalProfit'].nlargest(3)"
   ]
  },
  {
   "cell_type": "markdown",
   "id": "departmental-florida",
   "metadata": {},
   "source": [
    "3) 5."
   ]
  },
  {
   "cell_type": "code",
   "execution_count": 5,
   "id": "criminal-title",
   "metadata": {},
   "outputs": [],
   "source": [
    "# Add the results of the top 3 item types to the file MM_Rankings.txt.\n",
    "\n",
    "with open('DataSamples/MM_Rankings.txt', 'a+') as writer:\n",
    "    writer.write('Highest Selling Items:\\n')\n",
    "    writer.write('Item 1: Cosmetics\\n')\n",
    "    writer.write('Item 2: Household\\n')\n",
    "    writer.write('Item 3: Office Supplies\\n')\n",
    "    writer.write('We profited from Cosmetics the most.\\n\\n')"
   ]
  },
  {
   "cell_type": "markdown",
   "id": "charitable-rendering",
   "metadata": {},
   "source": [
    "3) 6. "
   ]
  },
  {
   "cell_type": "markdown",
   "id": "warming-mouse",
   "metadata": {},
   "source": [
    "A box plot is used to visualize the four quartiles of a set of data. The line in the center of the box represents the median of the data.    \n",
    "The box represent the middle half of the data, from quartile 1 to quartile 3.   \n",
    "The lines or whiskers that extend out represent the outer quarters of the data, usually containing the outliers.\n",
    "A wider box represents a greater degree of dispersion in the data.   \n",
    "This chart could be used to visualize the shape of our data; which types of items have the largest dispersion in profit, and what the median level of profit is for each type.   \n",
    "We can use this information to potentially consolidate or expand prices depending on the respective dispersion.    \n",
    "In this case, it appears that Fruit, Beverages, and Personal Care items bring in the lowest distribution of profit. We may want to evaluate if these products are worth selling."
   ]
  },
  {
   "cell_type": "markdown",
   "id": "figured-spanking",
   "metadata": {},
   "source": [
    "#### Question 4"
   ]
  },
  {
   "cell_type": "markdown",
   "id": "tired-bride",
   "metadata": {},
   "source": [
    "4) 1."
   ]
  },
  {
   "cell_type": "code",
   "execution_count": 165,
   "id": "applied-drunk",
   "metadata": {},
   "outputs": [
    {
     "data": {
      "text/plain": [
       "UnitsSold        249818150.000\n",
       "UnitCost           9360768.320\n",
       "TotalRevenue   66145004417.170\n",
       "TotalCost      46629032915.810\n",
       "TotalProfit    19515971501.360\n",
       "dtype: float64"
      ]
     },
     "execution_count": 165,
     "metadata": {},
     "output_type": "execute_result"
    }
   ],
   "source": [
    "# Determines the sum for the Units Sold, Unit Cost, Total Revenue, Total Cost, and Total Profit.\n",
    "\n",
    "dfClean = pd.read_csv('DataSamples/MM_Sales_clean.csv')\n",
    "\n",
    "sum_list = list(dfClean)\n",
    "sum_list.remove('Region')\n",
    "sum_list.remove('Country')\n",
    "sum_list.remove('ItemType')\n",
    "sum_list.remove('SalesChannel')\n",
    "sum_list.remove('OrderPriority')\n",
    "sum_list.remove('OrderDate')\n",
    "sum_list.remove('OrderID')\n",
    "sum_list.remove('ShipDate')\n",
    "sum_list.remove('UnitPrice')\n",
    "\n",
    "dfClean[sum_list].sum()\n"
   ]
  },
  {
   "cell_type": "markdown",
   "id": "excessive-stevens",
   "metadata": {},
   "source": [
    "4) 2."
   ]
  },
  {
   "cell_type": "code",
   "execution_count": 171,
   "id": "arctic-quick",
   "metadata": {},
   "outputs": [
    {
     "data": {
      "text/plain": [
       "UnitsSold         4999.263\n",
       "UnitCost           187.324\n",
       "TotalRevenue   1323667.816\n",
       "TotalCost       933121.869\n",
       "TotalProfit     390545.947\n",
       "dtype: float64"
      ]
     },
     "execution_count": 171,
     "metadata": {},
     "output_type": "execute_result"
    }
   ],
   "source": [
    "# Produces the average of the requsted columns above.\n",
    "\n",
    "dfClean[sum_list].mean()"
   ]
  },
  {
   "cell_type": "markdown",
   "id": "delayed-planning",
   "metadata": {},
   "source": [
    "4) 3."
   ]
  },
  {
   "cell_type": "code",
   "execution_count": 190,
   "id": "supreme-defensive",
   "metadata": {},
   "outputs": [
    {
     "data": {
      "text/plain": [
       "UnitsSold        10000.000\n",
       "UnitCost           524.960\n",
       "TotalRevenue   6682031.730\n",
       "TotalCost      5249075.040\n",
       "TotalProfit    1738178.390\n",
       "dtype: float64"
      ]
     },
     "execution_count": 190,
     "metadata": {},
     "output_type": "execute_result"
    }
   ],
   "source": [
    "# Produces the maximums for the requested columns.\n",
    "\n",
    "dfClean[sum_list].max()"
   ]
  },
  {
   "cell_type": "markdown",
   "id": "extended-magnet",
   "metadata": {},
   "source": [
    "4) 4. "
   ]
  },
  {
   "cell_type": "code",
   "execution_count": 189,
   "id": "written-involvement",
   "metadata": {},
   "outputs": [
    {
     "data": {
      "image/png": "[encoded data removed]",
      "text/plain": [
       "<Figure size 1440x432 with 1 Axes>"
      ]
     },
     "metadata": {},
     "output_type": "display_data"
    },
    {
     "data": {
      "image/png": "[encoded data removed]",
      "text/plain": [
       "<Figure size 1440x432 with 1 Axes>"
      ]
     },
     "metadata": {},
     "output_type": "display_data"
    }
   ],
   "source": [
    "# Creates two line plots, one for the sums, and one for both the means and the maxes.\n",
    "\n",
    "plt.figure(figsize=(20, 6))  #adjust width first, then height.\n",
    "plt.plot(dfClean[sum_list].sum(), 'r-')  #first letter is color, second letter: o = dot chart.\n",
    "plt.title('Sums of Unit data and Totals')\n",
    "plt.xlabel('Category')\n",
    "plt.ylabel('Dollars (Billions)')\n",
    "plt.show()\n",
    "\n",
    "\n",
    "x = dfClean[sum_list].mean()\n",
    "y = dfClean[sum_list].max()\n",
    "\n",
    "plt.figure(figsize=(20, 6))\n",
    "plt.plot(x, label='Average')\n",
    "plt.plot(y, label='Max')\n",
    "plt.legend(loc=\"upper left\")\n",
    "plt.title('Avg and Max of Unit Data and Totals')\n",
    "plt.xlabel('Category')\n",
    "plt.ylabel('Dollars (Millions)')\n",
    "plt.show()"
   ]
  },
  {
   "cell_type": "markdown",
   "id": "interracial-credits",
   "metadata": {},
   "source": [
    "4) 5."
   ]
  },
  {
   "cell_type": "code",
   "execution_count": 191,
   "id": "abstract-calgary",
   "metadata": {},
   "outputs": [],
   "source": [
    "# Saving these calculations into a new text file called MM_Calc.txt.\n",
    "\n",
    "with open('DataSamples/MM_Calc.txt', 'a+') as writer:\n",
    "    writer.write('Sums:\\n')\n",
    "    writer.write('Units Sold: 249,818,150\\n')\n",
    "    writer.write('Unit Cost: $ 9,360,768\\n')\n",
    "    writer.write('Total Revenue: $ 66,145,004,417\\n')\n",
    "    writer.write('Total Cost: $ 46,629,032,915\\n')\n",
    "    writer.write('Total Profit: $ 19,515,971,501\\n\\n')\n",
    "    \n",
    "    writer.write('Averages:\\n')\n",
    "    writer.write('Units Sold: 4999.263\\n')\n",
    "    writer.write('Unit Cost: $ 187.324\\n')\n",
    "    writer.write('Total Revenue: $ 1,323,667.816\\n')\n",
    "    writer.write('Total Cost: $ 933,121.869\\n')\n",
    "    writer.write('Total Profit: $ 390,545.947\\n\\n')\n",
    "    \n",
    "    writer.write('Maximums:\\n')\n",
    "    writer.write('Units Sold: 10000\\n')\n",
    "    writer.write('Unit Cost: $ 524.960\\n')\n",
    "    writer.write('Total Revenue: $ 6,682,031.730\\n')\n",
    "    writer.write('Total Cost: $ 5,249,075.040\\n')\n",
    "    writer.write('Total Profit: $ 1,738,178.390\\n\\n')"
   ]
  },
  {
   "cell_type": "markdown",
   "id": "higher-begin",
   "metadata": {},
   "source": [
    "## Part 3: Cross-Reference Statistics"
   ]
  },
  {
   "cell_type": "markdown",
   "id": "sensitive-bloom",
   "metadata": {},
   "source": [
    "1."
   ]
  },
  {
   "cell_type": "code",
   "execution_count": 299,
   "id": "legendary-stake",
   "metadata": {},
   "outputs": [
    {
     "data": {
      "text/plain": [
       "{'Asia': ['India',\n",
       "  'Bangladesh',\n",
       "  'Cambodia',\n",
       "  'Laos',\n",
       "  'Uzbekistan',\n",
       "  'Kazakhstan',\n",
       "  'North Korea',\n",
       "  'Malaysia',\n",
       "  'Mongolia',\n",
       "  'Sri Lanka',\n",
       "  'Kyrgyzstan',\n",
       "  'Singapore',\n",
       "  'Japan',\n",
       "  'Tajikistan',\n",
       "  'Philippines',\n",
       "  'South Korea',\n",
       "  'Maldives',\n",
       "  'China',\n",
       "  'Thailand',\n",
       "  'Nepal',\n",
       "  'Brunei',\n",
       "  'Indonesia',\n",
       "  'Taiwan',\n",
       "  'Bhutan',\n",
       "  'Myanmar',\n",
       "  'Vietnam',\n",
       "  'Turkmenistan'],\n",
       " 'Australia and Oceania': ['Australia',\n",
       "  'Samoa ',\n",
       "  'Tonga',\n",
       "  'Solomon Islands',\n",
       "  'Papua New Guinea',\n",
       "  'Vanuatu',\n",
       "  'Fiji',\n",
       "  'Marshall Islands',\n",
       "  'Federated States of Micronesia',\n",
       "  'East Timor',\n",
       "  'Nauru',\n",
       "  'New Zealand',\n",
       "  'Kiribati',\n",
       "  'Tuvalu',\n",
       "  'Palau'],\n",
       " 'Central America and the Caribbean': ['Honduras',\n",
       "  'Saint Lucia',\n",
       "  'El Salvador',\n",
       "  'Cuba',\n",
       "  'Panama',\n",
       "  'Jamaica',\n",
       "  'Haiti',\n",
       "  'Nicaragua',\n",
       "  'Trinidad and Tobago',\n",
       "  'Antigua and Barbuda ',\n",
       "  'Costa Rica',\n",
       "  'Grenada',\n",
       "  'The Bahamas',\n",
       "  'Belize',\n",
       "  'Guatemala',\n",
       "  'Dominica',\n",
       "  'Barbados',\n",
       "  'Saint Kitts and Nevis ',\n",
       "  'Dominican Republic',\n",
       "  'Saint Vincent and the Grenadines'],\n",
       " 'Europe': ['Vatican City',\n",
       "  'Italy',\n",
       "  'Montenegro',\n",
       "  'Poland',\n",
       "  'Iceland',\n",
       "  'Serbia',\n",
       "  'Netherlands',\n",
       "  'Belgium',\n",
       "  'Kosovo',\n",
       "  'San Marino',\n",
       "  'Austria',\n",
       "  'Sweden',\n",
       "  'Ireland',\n",
       "  'Croatia',\n",
       "  'Hungary',\n",
       "  'Belarus',\n",
       "  'Latvia',\n",
       "  'France',\n",
       "  'Portugal',\n",
       "  'Albania',\n",
       "  'Malta',\n",
       "  'Slovakia',\n",
       "  'Norway',\n",
       "  'Lithuania',\n",
       "  'Denmark',\n",
       "  'Macedonia',\n",
       "  'Andorra',\n",
       "  'Finland',\n",
       "  'Bulgaria',\n",
       "  'Armenia',\n",
       "  'Czech Republic',\n",
       "  'Moldova ',\n",
       "  'Liechtenstein',\n",
       "  'Greece',\n",
       "  'Slovenia',\n",
       "  'Monaco',\n",
       "  'Ukraine',\n",
       "  'Spain',\n",
       "  'Luxembourg',\n",
       "  'Russia',\n",
       "  'Romania',\n",
       "  'Germany',\n",
       "  'Bosnia and Herzegovina',\n",
       "  'Estonia',\n",
       "  'Georgia',\n",
       "  'Cyprus',\n",
       "  'Switzerland',\n",
       "  'United Kingdom'],\n",
       " 'Middle East and North Africa': ['Iraq',\n",
       "  'Bahrain',\n",
       "  'Somalia',\n",
       "  'Qatar',\n",
       "  'Saudi Arabia',\n",
       "  'United Arab Emirates',\n",
       "  'Egypt',\n",
       "  'Turkey',\n",
       "  'Kuwait',\n",
       "  'Pakistan',\n",
       "  'Jordan',\n",
       "  'Algeria',\n",
       "  'Israel',\n",
       "  'Afghanistan',\n",
       "  'Libya',\n",
       "  'Syria',\n",
       "  'Oman',\n",
       "  'Morocco',\n",
       "  'Lebanon',\n",
       "  'Iran',\n",
       "  'Azerbaijan',\n",
       "  'Yemen',\n",
       "  'Tunisia '],\n",
       " 'North America': ['Canada',\n",
       "  'Greenland',\n",
       "  'Mexico',\n",
       "  'United States of America'],\n",
       " 'Sub-Saharan Africa': ['Liberia',\n",
       "  'Cape Verde',\n",
       "  'Equatorial Guinea',\n",
       "  'South Africa',\n",
       "  'Seychelles ',\n",
       "  'Eritrea',\n",
       "  'Angola',\n",
       "  'Mozambique',\n",
       "  'Madagascar',\n",
       "  'Sierra Leone',\n",
       "  'Djibouti',\n",
       "  'Rwanda',\n",
       "  'Central African Republic',\n",
       "  'Swaziland',\n",
       "  'Sao Tome and Principe',\n",
       "  'Kenya',\n",
       "  'Niger',\n",
       "  'Ethiopia',\n",
       "  'Togo',\n",
       "  'Nigeria',\n",
       "  'Benin',\n",
       "  'Gabon',\n",
       "  'Zambia',\n",
       "  'Cameroon',\n",
       "  'Namibia',\n",
       "  'Sudan',\n",
       "  'Mauritius ',\n",
       "  'Comoros',\n",
       "  'Mali',\n",
       "  'Lesotho',\n",
       "  'Burkina Faso',\n",
       "  'Burundi',\n",
       "  'Tanzania',\n",
       "  'Democratic Republic of the Congo',\n",
       "  'Mauritania',\n",
       "  'Chad',\n",
       "  'Senegal',\n",
       "  'Republic of the Congo',\n",
       "  'South Sudan',\n",
       "  'Zimbabwe',\n",
       "  'Botswana',\n",
       "  'Guinea',\n",
       "  'Uganda',\n",
       "  'Malawi',\n",
       "  'The Gambia',\n",
       "  'Ghana',\n",
       "  \"Cote d'Ivoire\",\n",
       "  'Guinea-Bissau']}"
      ]
     },
     "execution_count": 299,
     "metadata": {},
     "output_type": "execute_result"
    }
   ],
   "source": [
    "# Here we are grouping our clean data frame by Region and then by Country. This will output as a dictionary with each region being a key and the countries being values.\n",
    "\n",
    "regions = dfClean.groupby(\"Region\")[\"Country\"].apply(list).to_dict()\n",
    "countries_regions = {k:list(set(v)) for k, v in regions.items()}\n",
    "countries_regions"
   ]
  },
  {
   "cell_type": "code",
   "execution_count": 300,
   "id": "defensive-advantage",
   "metadata": {},
   "outputs": [],
   "source": [
    "# Now we are writing our results to a csv file called Countries_By_Region.csv. We needed to use the zip_longest function here to allow us to zip our results together while filling in missing values.\n",
    "\n",
    "d = countries_regions\n",
    "with open(\"DataSamples/Countries_By_Region.csv\", \"w\") as outfile:\n",
    "   writer = csv.writer(outfile)\n",
    "   writer.writerow(d.keys())\n",
    "   writer.writerows(zip_longest(*d.values(), fillvalue=''))"
   ]
  }
 ],
 "metadata": {
  "kernelspec": {
   "display_name": "Python 3",
   "language": "python",
   "name": "python3"
  },
  "language_info": {
   "codemirror_mode": {
    "name": "ipython",
    "version": 3
   },
   "file_extension": ".py",
   "mimetype": "text/x-python",
   "name": "python",
   "nbconvert_exporter": "python",
   "pygments_lexer": "ipython3",
   "version": "3.8.5"
  }
 },
 "nbformat": 4,
 "nbformat_minor": 5
}
